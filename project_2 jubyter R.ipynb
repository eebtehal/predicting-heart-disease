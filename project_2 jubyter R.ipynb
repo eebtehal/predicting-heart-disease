{
 "cells": [
  {
   "cell_type": "markdown",
   "metadata": {},
   "source": [
    "# <span style='color:maroon'>  Second project for data analyiss course </span>"
   ]
  },
  {
   "cell_type": "markdown",
   "metadata": {},
   "source": [
    "##### <span style='color:tan'>  in this projet we have two question the first is aboute the relation between smoking and cancer and the second is aboute the heart disease and its covariate </span>"
   ]
  },
  {
   "cell_type": "markdown",
   "metadata": {},
   "source": [
    " "
   ]
  },
  {
   "cell_type": "markdown",
   "metadata": {},
   "source": [
    "### <span style='color:maroon'> FIRST QUESTION : </span>"
   ]
  },
  {
   "cell_type": "markdown",
   "metadata": {},
   "source": [
    "### <span style='color:gray'>1.1_ what is the correct statement ?"
   ]
  },
  {
   "cell_type": "markdown",
   "metadata": {},
   "source": [
    "##### <span style='color:tan'> by useing odds retio that have the formela :\n",
    "##### <span style='color:darkgoldenrod'> OR=(P1 / (1-P1)) / (P2 / (1-P2)) "
   ]
  },
  {
   "cell_type": "markdown",
   "metadata": {},
   "source": [
    "##### <span style='color:tan'>since the odds retio is =6.75 >1 so we can say that the smoking is causing cancer \n",
    "##### <span style='color:tan'> so the correct answer is B that a smoker is 7 times more likely to get cancer compared to non-smoker "
   ]
  },
  {
   "cell_type": "code",
   "execution_count": 323,
   "metadata": {},
   "outputs": [
    {
     "data": {
      "text/plain": [
       "      smoker\n",
       "cancer  0  1\n",
       "     0  9  8\n",
       "     1  2 12"
      ]
     },
     "metadata": {},
     "output_type": "display_data"
    }
   ],
   "source": [
    "table(cancer,smoker)"
   ]
  },
  {
   "cell_type": "code",
   "execution_count": 182,
   "metadata": {},
   "outputs": [
    {
     "data": {
      "text/html": [
       "6.75"
      ],
      "text/latex": [
       "6.75"
      ],
      "text/markdown": [
       "6.75"
      ],
      "text/plain": [
       "[1] 6.75"
      ]
     },
     "metadata": {},
     "output_type": "display_data"
    }
   ],
   "source": [
    "((12/20)/(8/20)) /  ((2/11)/(9/11)) "
   ]
  },
  {
   "cell_type": "code",
   "execution_count": 93,
   "metadata": {},
   "outputs": [
    {
     "data": {
      "text/html": [
       "6.75"
      ],
      "text/latex": [
       "6.75"
      ],
      "text/markdown": [
       "6.75"
      ],
      "text/plain": [
       "[1] 6.75"
      ]
     },
     "metadata": {},
     "output_type": "display_data"
    }
   ],
   "source": [
    "#Or by simplify this\n",
    "(12/8)/(2/9)"
   ]
  },
  {
   "cell_type": "markdown",
   "metadata": {},
   "source": [
    " "
   ]
  },
  {
   "cell_type": "markdown",
   "metadata": {},
   "source": [
    " "
   ]
  },
  {
   "cell_type": "markdown",
   "metadata": {},
   "source": [
    "### <span style='color:gray'>1.2_ test for association between cancer and smoking"
   ]
  },
  {
   "cell_type": "markdown",
   "metadata": {},
   "source": [
    "##### <span style='color:tan'> to make the test of association between cancer status and smoking easier we changed the table to excel sheet "
   ]
  },
  {
   "cell_type": "code",
   "execution_count": 5,
   "metadata": {},
   "outputs": [],
   "source": [
    "library(readxl)"
   ]
  },
  {
   "cell_type": "code",
   "execution_count": 7,
   "metadata": {},
   "outputs": [
    {
     "ename": "ERROR",
     "evalue": "Error: `path` does not exist: ‘Desktop/lectures SMR 6/Data analysis/cancer.xlsx’\n",
     "output_type": "error",
     "traceback": [
      "Error: `path` does not exist: ‘Desktop/lectures SMR 6/Data analysis/cancer.xlsx’\nTraceback:\n",
      "1. read_excel(\"Desktop/lectures SMR 6/Data analysis/cancer.xlsx\")",
      "2. check_file(path)",
      "3. stop(\"`path` does not exist: \", sQuote(path), call. = FALSE)"
     ]
    }
   ],
   "source": [
    "dataQ1 <- read_excel(\"Desktop/lectures SMR 6/Data analysis/cancer.xlsx\")"
   ]
  },
  {
   "cell_type": "code",
   "execution_count": 97,
   "metadata": {},
   "outputs": [],
   "source": [
    "attach(dataQ1)"
   ]
  },
  {
   "cell_type": "code",
   "execution_count": 96,
   "metadata": {},
   "outputs": [
    {
     "data": {
      "text/html": [
       "<table>\n",
       "<thead><tr><th scope=col>cancer</th><th scope=col>smoker</th></tr></thead>\n",
       "<tbody>\n",
       "\t<tr><td>1</td><td>1</td></tr>\n",
       "\t<tr><td>1</td><td>1</td></tr>\n",
       "\t<tr><td>1</td><td>1</td></tr>\n",
       "\t<tr><td>1</td><td>1</td></tr>\n",
       "\t<tr><td>1</td><td>1</td></tr>\n",
       "\t<tr><td>1</td><td>1</td></tr>\n",
       "\t<tr><td>1</td><td>1</td></tr>\n",
       "\t<tr><td>1</td><td>1</td></tr>\n",
       "\t<tr><td>1</td><td>1</td></tr>\n",
       "\t<tr><td>1</td><td>1</td></tr>\n",
       "\t<tr><td>1</td><td>1</td></tr>\n",
       "\t<tr><td>1</td><td>1</td></tr>\n",
       "\t<tr><td>1</td><td>0</td></tr>\n",
       "\t<tr><td>1</td><td>0</td></tr>\n",
       "\t<tr><td>0</td><td>1</td></tr>\n",
       "\t<tr><td>0</td><td>1</td></tr>\n",
       "\t<tr><td>0</td><td>1</td></tr>\n",
       "\t<tr><td>0</td><td>1</td></tr>\n",
       "\t<tr><td>0</td><td>1</td></tr>\n",
       "\t<tr><td>0</td><td>1</td></tr>\n",
       "\t<tr><td>0</td><td>1</td></tr>\n",
       "\t<tr><td>0</td><td>1</td></tr>\n",
       "\t<tr><td>0</td><td>0</td></tr>\n",
       "\t<tr><td>0</td><td>0</td></tr>\n",
       "\t<tr><td>0</td><td>0</td></tr>\n",
       "\t<tr><td>0</td><td>0</td></tr>\n",
       "\t<tr><td>0</td><td>0</td></tr>\n",
       "\t<tr><td>0</td><td>0</td></tr>\n",
       "\t<tr><td>0</td><td>0</td></tr>\n",
       "\t<tr><td>0</td><td>0</td></tr>\n",
       "\t<tr><td>0</td><td>0</td></tr>\n",
       "</tbody>\n",
       "</table>\n"
      ],
      "text/latex": [
       "\\begin{tabular}{r|ll}\n",
       " cancer & smoker\\\\\n",
       "\\hline\n",
       "\t 1 & 1\\\\\n",
       "\t 1 & 1\\\\\n",
       "\t 1 & 1\\\\\n",
       "\t 1 & 1\\\\\n",
       "\t 1 & 1\\\\\n",
       "\t 1 & 1\\\\\n",
       "\t 1 & 1\\\\\n",
       "\t 1 & 1\\\\\n",
       "\t 1 & 1\\\\\n",
       "\t 1 & 1\\\\\n",
       "\t 1 & 1\\\\\n",
       "\t 1 & 1\\\\\n",
       "\t 1 & 0\\\\\n",
       "\t 1 & 0\\\\\n",
       "\t 0 & 1\\\\\n",
       "\t 0 & 1\\\\\n",
       "\t 0 & 1\\\\\n",
       "\t 0 & 1\\\\\n",
       "\t 0 & 1\\\\\n",
       "\t 0 & 1\\\\\n",
       "\t 0 & 1\\\\\n",
       "\t 0 & 1\\\\\n",
       "\t 0 & 0\\\\\n",
       "\t 0 & 0\\\\\n",
       "\t 0 & 0\\\\\n",
       "\t 0 & 0\\\\\n",
       "\t 0 & 0\\\\\n",
       "\t 0 & 0\\\\\n",
       "\t 0 & 0\\\\\n",
       "\t 0 & 0\\\\\n",
       "\t 0 & 0\\\\\n",
       "\\end{tabular}\n"
      ],
      "text/markdown": [
       "\n",
       "| cancer | smoker |\n",
       "|---|---|\n",
       "| 1 | 1 |\n",
       "| 1 | 1 |\n",
       "| 1 | 1 |\n",
       "| 1 | 1 |\n",
       "| 1 | 1 |\n",
       "| 1 | 1 |\n",
       "| 1 | 1 |\n",
       "| 1 | 1 |\n",
       "| 1 | 1 |\n",
       "| 1 | 1 |\n",
       "| 1 | 1 |\n",
       "| 1 | 1 |\n",
       "| 1 | 0 |\n",
       "| 1 | 0 |\n",
       "| 0 | 1 |\n",
       "| 0 | 1 |\n",
       "| 0 | 1 |\n",
       "| 0 | 1 |\n",
       "| 0 | 1 |\n",
       "| 0 | 1 |\n",
       "| 0 | 1 |\n",
       "| 0 | 1 |\n",
       "| 0 | 0 |\n",
       "| 0 | 0 |\n",
       "| 0 | 0 |\n",
       "| 0 | 0 |\n",
       "| 0 | 0 |\n",
       "| 0 | 0 |\n",
       "| 0 | 0 |\n",
       "| 0 | 0 |\n",
       "| 0 | 0 |\n",
       "\n"
      ],
      "text/plain": [
       "   cancer smoker\n",
       "1  1      1     \n",
       "2  1      1     \n",
       "3  1      1     \n",
       "4  1      1     \n",
       "5  1      1     \n",
       "6  1      1     \n",
       "7  1      1     \n",
       "8  1      1     \n",
       "9  1      1     \n",
       "10 1      1     \n",
       "11 1      1     \n",
       "12 1      1     \n",
       "13 1      0     \n",
       "14 1      0     \n",
       "15 0      1     \n",
       "16 0      1     \n",
       "17 0      1     \n",
       "18 0      1     \n",
       "19 0      1     \n",
       "20 0      1     \n",
       "21 0      1     \n",
       "22 0      1     \n",
       "23 0      0     \n",
       "24 0      0     \n",
       "25 0      0     \n",
       "26 0      0     \n",
       "27 0      0     \n",
       "28 0      0     \n",
       "29 0      0     \n",
       "30 0      0     \n",
       "31 0      0     "
      ]
     },
     "metadata": {},
     "output_type": "display_data"
    }
   ],
   "source": [
    "dataQ1"
   ]
  },
  {
   "cell_type": "markdown",
   "metadata": {},
   "source": [
    "##### <span style='color:darkgoldenrod'> since both response and predictor are categorical, we can apply different tests "
   ]
  },
  {
   "cell_type": "markdown",
   "metadata": {},
   "source": [
    "##### <span style='color:tan'> first we use deviance test ,and since p-value=0.0209< Alpha=0.05 so there is significant association between cancer and smoking "
   ]
  },
  {
   "cell_type": "code",
   "execution_count": 98,
   "metadata": {},
   "outputs": [],
   "source": [
    "model <- glm(cancer~smoker,family=\"binomial\")"
   ]
  },
  {
   "cell_type": "code",
   "execution_count": 183,
   "metadata": {},
   "outputs": [
    {
     "data": {
      "text/plain": [
       "\n",
       "Call:\n",
       "glm(formula = cancer ~ smoker, family = \"binomial\")\n",
       "\n",
       "Deviance Residuals: \n",
       "    Min       1Q   Median       3Q      Max  \n",
       "-1.3537  -0.9936  -0.6335   1.0108   1.8465  \n",
       "\n",
       "Coefficients:\n",
       "            Estimate Std. Error z value Pr(>|z|)  \n",
       "(Intercept)  -1.5041     0.7817  -1.924   0.0544 .\n",
       "smoker        1.9095     0.9052   2.109   0.0349 *\n",
       "---\n",
       "Signif. codes:  0 ‘***’ 0.001 ‘**’ 0.01 ‘*’ 0.05 ‘.’ 0.1 ‘ ’ 1\n",
       "\n",
       "(Dispersion parameter for binomial family taken to be 1)\n",
       "\n",
       "    Null deviance: 42.684  on 30  degrees of freedom\n",
       "Residual deviance: 37.352  on 29  degrees of freedom\n",
       "AIC: 41.352\n",
       "\n",
       "Number of Fisher Scoring iterations: 4\n"
      ]
     },
     "metadata": {},
     "output_type": "display_data"
    }
   ],
   "source": [
    "summary(model)"
   ]
  },
  {
   "cell_type": "code",
   "execution_count": 100,
   "metadata": {},
   "outputs": [
    {
     "data": {
      "text/html": [
       "0.020927543675336"
      ],
      "text/latex": [
       "0.020927543675336"
      ],
      "text/markdown": [
       "0.020927543675336"
      ],
      "text/plain": [
       "[1] 0.02092754"
      ]
     },
     "metadata": {},
     "output_type": "display_data"
    }
   ],
   "source": [
    "with(model,pchisq(null.deviance - deviance,df.null-df.residual,lower.tail =FALSE))"
   ]
  },
  {
   "cell_type": "markdown",
   "metadata": {},
   "source": [
    "##### <span style='color:tan'>  her we use diffirent tests LRT and Rao and both of them have p-value less than alpha=0.05 so there is significant association between cancer and smoking"
   ]
  },
  {
   "cell_type": "markdown",
   "metadata": {},
   "source": [
    " "
   ]
  },
  {
   "cell_type": "code",
   "execution_count": 101,
   "metadata": {},
   "outputs": [
    {
     "data": {
      "text/html": [
       "<table>\n",
       "<thead><tr><th></th><th scope=col>Df</th><th scope=col>Deviance</th><th scope=col>Resid. Df</th><th scope=col>Resid. Dev</th><th scope=col>Pr(&gt;Chi)</th></tr></thead>\n",
       "<tbody>\n",
       "\t<tr><th scope=row>NULL</th><td>NA        </td><td>      NA  </td><td>30        </td><td>42.68435  </td><td>        NA</td></tr>\n",
       "\t<tr><th scope=row>smoker</th><td> 1        </td><td>5.332816  </td><td>29        </td><td>37.35153  </td><td>0.02092754</td></tr>\n",
       "</tbody>\n",
       "</table>\n"
      ],
      "text/latex": [
       "\\begin{tabular}{r|lllll}\n",
       "  & Df & Deviance & Resid. Df & Resid. Dev & Pr(>Chi)\\\\\n",
       "\\hline\n",
       "\tNULL & NA         &       NA   & 30         & 42.68435   &         NA\\\\\n",
       "\tsmoker &  1         & 5.332816   & 29         & 37.35153   & 0.02092754\\\\\n",
       "\\end{tabular}\n"
      ],
      "text/markdown": [
       "\n",
       "| <!--/--> | Df | Deviance | Resid. Df | Resid. Dev | Pr(>Chi) |\n",
       "|---|---|---|---|---|---|\n",
       "| NULL | NA         |       NA   | 30         | 42.68435   |         NA |\n",
       "| smoker |  1         | 5.332816   | 29         | 37.35153   | 0.02092754 |\n",
       "\n"
      ],
      "text/plain": [
       "       Df Deviance Resid. Df Resid. Dev Pr(>Chi)  \n",
       "NULL   NA       NA 30        42.68435           NA\n",
       "smoker  1 5.332816 29        37.35153   0.02092754"
      ]
     },
     "metadata": {},
     "output_type": "display_data"
    }
   ],
   "source": [
    "anova(model,test = \"LRT\")"
   ]
  },
  {
   "cell_type": "code",
   "execution_count": 103,
   "metadata": {},
   "outputs": [
    {
     "data": {
      "text/html": [
       "<table>\n",
       "<thead><tr><th></th><th scope=col>Df</th><th scope=col>Deviance</th><th scope=col>Resid. Df</th><th scope=col>Resid. Dev</th><th scope=col>Rao</th><th scope=col>Pr(&gt;Chi)</th></tr></thead>\n",
       "<tbody>\n",
       "\t<tr><th scope=row>NULL</th><td>NA        </td><td>      NA  </td><td>30        </td><td>42.68435  </td><td>      NA  </td><td>        NA</td></tr>\n",
       "\t<tr><th scope=row>smoker</th><td> 1        </td><td>5.332816  </td><td>29        </td><td>37.35153  </td><td>5.011199  </td><td>0.02518386</td></tr>\n",
       "</tbody>\n",
       "</table>\n"
      ],
      "text/latex": [
       "\\begin{tabular}{r|llllll}\n",
       "  & Df & Deviance & Resid. Df & Resid. Dev & Rao & Pr(>Chi)\\\\\n",
       "\\hline\n",
       "\tNULL & NA         &       NA   & 30         & 42.68435   &       NA   &         NA\\\\\n",
       "\tsmoker &  1         & 5.332816   & 29         & 37.35153   & 5.011199   & 0.02518386\\\\\n",
       "\\end{tabular}\n"
      ],
      "text/markdown": [
       "\n",
       "| <!--/--> | Df | Deviance | Resid. Df | Resid. Dev | Rao | Pr(>Chi) |\n",
       "|---|---|---|---|---|---|---|\n",
       "| NULL | NA         |       NA   | 30         | 42.68435   |       NA   |         NA |\n",
       "| smoker |  1         | 5.332816   | 29         | 37.35153   | 5.011199   | 0.02518386 |\n",
       "\n"
      ],
      "text/plain": [
       "       Df Deviance Resid. Df Resid. Dev Rao      Pr(>Chi)  \n",
       "NULL   NA       NA 30        42.68435         NA         NA\n",
       "smoker  1 5.332816 29        37.35153   5.011199 0.02518386"
      ]
     },
     "metadata": {},
     "output_type": "display_data"
    }
   ],
   "source": [
    "anova(model,test = \"Rao\")"
   ]
  },
  {
   "cell_type": "markdown",
   "metadata": {},
   "source": [
    " "
   ]
  },
  {
   "cell_type": "markdown",
   "metadata": {},
   "source": [
    " \n",
    " "
   ]
  },
  {
   "cell_type": "markdown",
   "metadata": {},
   "source": [
    "  \n",
    "\n",
    "\n",
    "\n",
    "\n",
    "\n",
    "\n"
   ]
  },
  {
   "cell_type": "markdown",
   "metadata": {},
   "source": [
    " "
   ]
  },
  {
   "cell_type": "markdown",
   "metadata": {},
   "source": [
    "##### -----------------------------------------------------"
   ]
  },
  {
   "cell_type": "markdown",
   "metadata": {},
   "source": [
    "### <span style='color:maroon'> SECOND QUESTION : </span>"
   ]
  },
  {
   "cell_type": "markdown",
   "metadata": {},
   "source": [
    "### <span style='color:gray'> 2.1_what is the appropriate model? "
   ]
  },
  {
   "cell_type": "markdown",
   "metadata": {},
   "source": [
    "##### <span style='color:tan'> first we call the dataset, and the data have 78 obs and four columns whuch are sex , Age ,ecg and specific heart disease(ca) \n",
    "\n",
    "##### <span style='color:tan'> sice the response is categorical we apply Logistic regression but first we change the variabls sex ,ca and ecg to factor and than we can apply Logistic regression "
   ]
  },
  {
   "cell_type": "code",
   "execution_count": 10,
   "metadata": {},
   "outputs": [],
   "source": [
    "project_2 <- read_excel(\"~/Desktop/lectures SMR 6/Data analysis/project_2.xlsx\")\n",
    " "
   ]
  },
  {
   "cell_type": "code",
   "execution_count": 11,
   "metadata": {},
   "outputs": [],
   "source": [
    "project_2$ca <- as.factor(project_2$ca)\n",
    "project_2$sex <- as.factor(project_2$sex)\n",
    "project_2$ecg <- ordered(project_2$ecg, levels = c(\"low\", \"medium\", \"high\"))"
   ]
  },
  {
   "cell_type": "code",
   "execution_count": 139,
   "metadata": {},
   "outputs": [
    {
     "data": {
      "text/html": [
       "<table>\n",
       "<thead><tr><th scope=col>sex</th><th scope=col>ca</th><th scope=col>age</th><th scope=col>ecg</th></tr></thead>\n",
       "<tbody>\n",
       "\t<tr><td>female</td><td>0     </td><td>28    </td><td>low   </td></tr>\n",
       "\t<tr><td>male  </td><td>1     </td><td>42    </td><td>low   </td></tr>\n",
       "\t<tr><td>female</td><td>0     </td><td>46    </td><td>medium</td></tr>\n",
       "\t<tr><td>male  </td><td>0     </td><td>45    </td><td>medium</td></tr>\n",
       "\t<tr><td>female</td><td>0     </td><td>34    </td><td>low   </td></tr>\n",
       "\t<tr><td>male  </td><td>1     </td><td>44    </td><td>low   </td></tr>\n",
       "\t<tr><td>female</td><td>1     </td><td>48    </td><td>medium</td></tr>\n",
       "\t<tr><td>male  </td><td>1     </td><td>45    </td><td>medium</td></tr>\n",
       "\t<tr><td>female</td><td>0     </td><td>38    </td><td>low   </td></tr>\n",
       "\t<tr><td>male  </td><td>0     </td><td>45    </td><td>low   </td></tr>\n",
       "\t<tr><td>female</td><td>0     </td><td>49    </td><td>medium</td></tr>\n",
       "\t<tr><td>male  </td><td>1     </td><td>45    </td><td>medium</td></tr>\n",
       "\t<tr><td>female</td><td>1     </td><td>41    </td><td>low   </td></tr>\n",
       "\t<tr><td>male  </td><td>0     </td><td>46    </td><td>low   </td></tr>\n",
       "\t<tr><td>female</td><td>0     </td><td>49    </td><td>medium</td></tr>\n",
       "\t<tr><td>male  </td><td>1     </td><td>46    </td><td>medium</td></tr>\n",
       "\t<tr><td>female</td><td>0     </td><td>44    </td><td>low   </td></tr>\n",
       "\t<tr><td>male  </td><td>0     </td><td>48    </td><td>low   </td></tr>\n",
       "\t<tr><td>female</td><td>0     </td><td>52    </td><td>medium</td></tr>\n",
       "\t<tr><td>male  </td><td>1     </td><td>48    </td><td>medium</td></tr>\n",
       "\t<tr><td>female</td><td>1     </td><td>45    </td><td>low   </td></tr>\n",
       "\t<tr><td>male  </td><td>0     </td><td>50    </td><td>low   </td></tr>\n",
       "\t<tr><td>female</td><td>1     </td><td>53    </td><td>medium</td></tr>\n",
       "\t<tr><td>male  </td><td>1     </td><td>57    </td><td>medium</td></tr>\n",
       "\t<tr><td>female</td><td>0     </td><td>46    </td><td>low   </td></tr>\n",
       "\t<tr><td>male  </td><td>1     </td><td>52    </td><td>low   </td></tr>\n",
       "\t<tr><td>female</td><td>1     </td><td>54    </td><td>medium</td></tr>\n",
       "\t<tr><td>male  </td><td>1     </td><td>57    </td><td>medium</td></tr>\n",
       "\t<tr><td>female</td><td>0     </td><td>47    </td><td>low   </td></tr>\n",
       "\t<tr><td>male  </td><td>1     </td><td>52    </td><td>low   </td></tr>\n",
       "\t<tr><td>...</td><td>...</td><td>...</td><td>...</td></tr>\n",
       "\t<tr><td>female</td><td>1     </td><td>55    </td><td>low   </td></tr>\n",
       "\t<tr><td>male  </td><td>0     </td><td>32    </td><td>medium</td></tr>\n",
       "\t<tr><td>female</td><td>1     </td><td>60    </td><td>high  </td></tr>\n",
       "\t<tr><td>male  </td><td>1     </td><td>43    </td><td>high  </td></tr>\n",
       "\t<tr><td>female</td><td>0     </td><td>59    </td><td>low   </td></tr>\n",
       "\t<tr><td>male  </td><td>0     </td><td>37    </td><td>medium</td></tr>\n",
       "\t<tr><td>male  </td><td>0     </td><td>30    </td><td>low   </td></tr>\n",
       "\t<tr><td>male  </td><td>1     </td><td>47    </td><td>high  </td></tr>\n",
       "\t<tr><td>female</td><td>1     </td><td>60    </td><td>low   </td></tr>\n",
       "\t<tr><td>male  </td><td>1     </td><td>38    </td><td>medium</td></tr>\n",
       "\t<tr><td>male  </td><td>0     </td><td>34    </td><td>low   </td></tr>\n",
       "\t<tr><td>male  </td><td>1     </td><td>48    </td><td>high  </td></tr>\n",
       "\t<tr><td>female</td><td>1     </td><td>32    </td><td>medium</td></tr>\n",
       "\t<tr><td>male  </td><td>1     </td><td>38    </td><td>medium</td></tr>\n",
       "\t<tr><td>male  </td><td>1     </td><td>36    </td><td>low   </td></tr>\n",
       "\t<tr><td>male  </td><td>0     </td><td>49    </td><td>high  </td></tr>\n",
       "\t<tr><td>female</td><td>0     </td><td>33    </td><td>medium</td></tr>\n",
       "\t<tr><td>male  </td><td>1     </td><td>42    </td><td>medium</td></tr>\n",
       "\t<tr><td>male  </td><td>1     </td><td>38    </td><td>low   </td></tr>\n",
       "\t<tr><td>male  </td><td>1     </td><td>58    </td><td>high  </td></tr>\n",
       "\t<tr><td>female</td><td>0     </td><td>35    </td><td>medium</td></tr>\n",
       "\t<tr><td>male  </td><td>0     </td><td>43    </td><td>medium</td></tr>\n",
       "\t<tr><td>male  </td><td>0     </td><td>39    </td><td>low   </td></tr>\n",
       "\t<tr><td>male  </td><td>1     </td><td>59    </td><td>high  </td></tr>\n",
       "\t<tr><td>female</td><td>0     </td><td>39    </td><td>medium</td></tr>\n",
       "\t<tr><td>male  </td><td>1     </td><td>43    </td><td>medium</td></tr>\n",
       "\t<tr><td>male  </td><td>0     </td><td>42    </td><td>low   </td></tr>\n",
       "\t<tr><td>male  </td><td>1     </td><td>60    </td><td>high  </td></tr>\n",
       "\t<tr><td>female</td><td>0     </td><td>40    </td><td>medium</td></tr>\n",
       "\t<tr><td>male  </td><td>1     </td><td>44    </td><td>medium</td></tr>\n",
       "</tbody>\n",
       "</table>\n"
      ],
      "text/latex": [
       "\\begin{tabular}{r|llll}\n",
       " sex & ca & age & ecg\\\\\n",
       "\\hline\n",
       "\t female & 0      & 28     & low   \\\\\n",
       "\t male   & 1      & 42     & low   \\\\\n",
       "\t female & 0      & 46     & medium\\\\\n",
       "\t male   & 0      & 45     & medium\\\\\n",
       "\t female & 0      & 34     & low   \\\\\n",
       "\t male   & 1      & 44     & low   \\\\\n",
       "\t female & 1      & 48     & medium\\\\\n",
       "\t male   & 1      & 45     & medium\\\\\n",
       "\t female & 0      & 38     & low   \\\\\n",
       "\t male   & 0      & 45     & low   \\\\\n",
       "\t female & 0      & 49     & medium\\\\\n",
       "\t male   & 1      & 45     & medium\\\\\n",
       "\t female & 1      & 41     & low   \\\\\n",
       "\t male   & 0      & 46     & low   \\\\\n",
       "\t female & 0      & 49     & medium\\\\\n",
       "\t male   & 1      & 46     & medium\\\\\n",
       "\t female & 0      & 44     & low   \\\\\n",
       "\t male   & 0      & 48     & low   \\\\\n",
       "\t female & 0      & 52     & medium\\\\\n",
       "\t male   & 1      & 48     & medium\\\\\n",
       "\t female & 1      & 45     & low   \\\\\n",
       "\t male   & 0      & 50     & low   \\\\\n",
       "\t female & 1      & 53     & medium\\\\\n",
       "\t male   & 1      & 57     & medium\\\\\n",
       "\t female & 0      & 46     & low   \\\\\n",
       "\t male   & 1      & 52     & low   \\\\\n",
       "\t female & 1      & 54     & medium\\\\\n",
       "\t male   & 1      & 57     & medium\\\\\n",
       "\t female & 0      & 47     & low   \\\\\n",
       "\t male   & 1      & 52     & low   \\\\\n",
       "\t ... & ... & ... & ...\\\\\n",
       "\t female & 1      & 55     & low   \\\\\n",
       "\t male   & 0      & 32     & medium\\\\\n",
       "\t female & 1      & 60     & high  \\\\\n",
       "\t male   & 1      & 43     & high  \\\\\n",
       "\t female & 0      & 59     & low   \\\\\n",
       "\t male   & 0      & 37     & medium\\\\\n",
       "\t male   & 0      & 30     & low   \\\\\n",
       "\t male   & 1      & 47     & high  \\\\\n",
       "\t female & 1      & 60     & low   \\\\\n",
       "\t male   & 1      & 38     & medium\\\\\n",
       "\t male   & 0      & 34     & low   \\\\\n",
       "\t male   & 1      & 48     & high  \\\\\n",
       "\t female & 1      & 32     & medium\\\\\n",
       "\t male   & 1      & 38     & medium\\\\\n",
       "\t male   & 1      & 36     & low   \\\\\n",
       "\t male   & 0      & 49     & high  \\\\\n",
       "\t female & 0      & 33     & medium\\\\\n",
       "\t male   & 1      & 42     & medium\\\\\n",
       "\t male   & 1      & 38     & low   \\\\\n",
       "\t male   & 1      & 58     & high  \\\\\n",
       "\t female & 0      & 35     & medium\\\\\n",
       "\t male   & 0      & 43     & medium\\\\\n",
       "\t male   & 0      & 39     & low   \\\\\n",
       "\t male   & 1      & 59     & high  \\\\\n",
       "\t female & 0      & 39     & medium\\\\\n",
       "\t male   & 1      & 43     & medium\\\\\n",
       "\t male   & 0      & 42     & low   \\\\\n",
       "\t male   & 1      & 60     & high  \\\\\n",
       "\t female & 0      & 40     & medium\\\\\n",
       "\t male   & 1      & 44     & medium\\\\\n",
       "\\end{tabular}\n"
      ],
      "text/markdown": [
       "\n",
       "| sex | ca | age | ecg |\n",
       "|---|---|---|---|\n",
       "| female | 0      | 28     | low    |\n",
       "| male   | 1      | 42     | low    |\n",
       "| female | 0      | 46     | medium |\n",
       "| male   | 0      | 45     | medium |\n",
       "| female | 0      | 34     | low    |\n",
       "| male   | 1      | 44     | low    |\n",
       "| female | 1      | 48     | medium |\n",
       "| male   | 1      | 45     | medium |\n",
       "| female | 0      | 38     | low    |\n",
       "| male   | 0      | 45     | low    |\n",
       "| female | 0      | 49     | medium |\n",
       "| male   | 1      | 45     | medium |\n",
       "| female | 1      | 41     | low    |\n",
       "| male   | 0      | 46     | low    |\n",
       "| female | 0      | 49     | medium |\n",
       "| male   | 1      | 46     | medium |\n",
       "| female | 0      | 44     | low    |\n",
       "| male   | 0      | 48     | low    |\n",
       "| female | 0      | 52     | medium |\n",
       "| male   | 1      | 48     | medium |\n",
       "| female | 1      | 45     | low    |\n",
       "| male   | 0      | 50     | low    |\n",
       "| female | 1      | 53     | medium |\n",
       "| male   | 1      | 57     | medium |\n",
       "| female | 0      | 46     | low    |\n",
       "| male   | 1      | 52     | low    |\n",
       "| female | 1      | 54     | medium |\n",
       "| male   | 1      | 57     | medium |\n",
       "| female | 0      | 47     | low    |\n",
       "| male   | 1      | 52     | low    |\n",
       "| ... | ... | ... | ... |\n",
       "| female | 1      | 55     | low    |\n",
       "| male   | 0      | 32     | medium |\n",
       "| female | 1      | 60     | high   |\n",
       "| male   | 1      | 43     | high   |\n",
       "| female | 0      | 59     | low    |\n",
       "| male   | 0      | 37     | medium |\n",
       "| male   | 0      | 30     | low    |\n",
       "| male   | 1      | 47     | high   |\n",
       "| female | 1      | 60     | low    |\n",
       "| male   | 1      | 38     | medium |\n",
       "| male   | 0      | 34     | low    |\n",
       "| male   | 1      | 48     | high   |\n",
       "| female | 1      | 32     | medium |\n",
       "| male   | 1      | 38     | medium |\n",
       "| male   | 1      | 36     | low    |\n",
       "| male   | 0      | 49     | high   |\n",
       "| female | 0      | 33     | medium |\n",
       "| male   | 1      | 42     | medium |\n",
       "| male   | 1      | 38     | low    |\n",
       "| male   | 1      | 58     | high   |\n",
       "| female | 0      | 35     | medium |\n",
       "| male   | 0      | 43     | medium |\n",
       "| male   | 0      | 39     | low    |\n",
       "| male   | 1      | 59     | high   |\n",
       "| female | 0      | 39     | medium |\n",
       "| male   | 1      | 43     | medium |\n",
       "| male   | 0      | 42     | low    |\n",
       "| male   | 1      | 60     | high   |\n",
       "| female | 0      | 40     | medium |\n",
       "| male   | 1      | 44     | medium |\n",
       "\n"
      ],
      "text/plain": [
       "    sex    ca  age ecg   \n",
       "1   female 0   28  low   \n",
       "2   male   1   42  low   \n",
       "3   female 0   46  medium\n",
       "4   male   0   45  medium\n",
       "5   female 0   34  low   \n",
       "6   male   1   44  low   \n",
       "7   female 1   48  medium\n",
       "8   male   1   45  medium\n",
       "9   female 0   38  low   \n",
       "10  male   0   45  low   \n",
       "11  female 0   49  medium\n",
       "12  male   1   45  medium\n",
       "13  female 1   41  low   \n",
       "14  male   0   46  low   \n",
       "15  female 0   49  medium\n",
       "16  male   1   46  medium\n",
       "17  female 0   44  low   \n",
       "18  male   0   48  low   \n",
       "19  female 0   52  medium\n",
       "20  male   1   48  medium\n",
       "21  female 1   45  low   \n",
       "22  male   0   50  low   \n",
       "23  female 1   53  medium\n",
       "24  male   1   57  medium\n",
       "25  female 0   46  low   \n",
       "26  male   1   52  low   \n",
       "27  female 1   54  medium\n",
       "28  male   1   57  medium\n",
       "29  female 0   47  low   \n",
       "30  male   1   52  low   \n",
       "... ...    ... ... ...   \n",
       "49  female 1   55  low   \n",
       "50  male   0   32  medium\n",
       "51  female 1   60  high  \n",
       "52  male   1   43  high  \n",
       "53  female 0   59  low   \n",
       "54  male   0   37  medium\n",
       "55  male   0   30  low   \n",
       "56  male   1   47  high  \n",
       "57  female 1   60  low   \n",
       "58  male   1   38  medium\n",
       "59  male   0   34  low   \n",
       "60  male   1   48  high  \n",
       "61  female 1   32  medium\n",
       "62  male   1   38  medium\n",
       "63  male   1   36  low   \n",
       "64  male   0   49  high  \n",
       "65  female 0   33  medium\n",
       "66  male   1   42  medium\n",
       "67  male   1   38  low   \n",
       "68  male   1   58  high  \n",
       "69  female 0   35  medium\n",
       "70  male   0   43  medium\n",
       "71  male   0   39  low   \n",
       "72  male   1   59  high  \n",
       "73  female 0   39  medium\n",
       "74  male   1   43  medium\n",
       "75  male   0   42  low   \n",
       "76  male   1   60  high  \n",
       "77  female 0   40  medium\n",
       "78  male   1   44  medium"
      ]
     },
     "metadata": {},
     "output_type": "display_data"
    }
   ],
   "source": [
    "project_2"
   ]
  },
  {
   "cell_type": "code",
   "execution_count": 206,
   "metadata": {},
   "outputs": [
    {
     "data": {
      "text/plain": [
       "     sex     ca          age            ecg    \n",
       " female:33   0:37   Min.   :28.00   low   :33  \n",
       " male  :45   1:41   1st Qu.:41.25   medium:32  \n",
       "                    Median :46.50   high  :13  \n",
       "                    Mean   :46.90              \n",
       "                    3rd Qu.:53.75              \n",
       "                    Max.   :63.00              "
      ]
     },
     "metadata": {},
     "output_type": "display_data"
    },
    {
     "name": "stdout",
     "output_type": "stream",
     "text": [
      "Classes ‘tbl_df’, ‘tbl’ and 'data.frame':\t78 obs. of  4 variables:\n",
      " $ sex: Factor w/ 2 levels \"female\",\"male\": 1 2 1 2 1 2 1 2 1 2 ...\n",
      " $ ca : Factor w/ 2 levels \"0\",\"1\": 1 2 1 1 1 2 2 2 1 1 ...\n",
      " $ age: num  28 42 46 45 34 44 48 45 38 45 ...\n",
      " $ ecg: Ord.factor w/ 3 levels \"low\"<\"medium\"<..: 1 1 2 2 1 1 2 2 1 1 ...\n"
     ]
    }
   ],
   "source": [
    "summary(project_2); str(project_2)"
   ]
  },
  {
   "cell_type": "code",
   "execution_count": 262,
   "metadata": {},
   "outputs": [],
   "source": [
    "logit<- glm(ca~sex+age,data=project_2,family=\"binomial\")"
   ]
  },
  {
   "cell_type": "code",
   "execution_count": 325,
   "metadata": {},
   "outputs": [
    {
     "data": {
      "text/plain": [
       "\n",
       "Call:\n",
       "glm(formula = ca ~ sex + age, family = \"binomial\", data = project_2)\n",
       "\n",
       "Deviance Residuals: \n",
       "    Min       1Q   Median       3Q      Max  \n",
       "-1.8263  -1.0021   0.5216   1.0011   2.0901  \n",
       "\n",
       "Coefficients:\n",
       "            Estimate Std. Error z value Pr(>|z|)   \n",
       "(Intercept) -5.05727    1.68088  -3.009  0.00262 **\n",
       "sexmale      1.37281    0.52576   2.611  0.00903 **\n",
       "age          0.09351    0.03337   2.803  0.00507 **\n",
       "---\n",
       "Signif. codes:  0 ‘***’ 0.001 ‘**’ 0.01 ‘*’ 0.05 ‘.’ 0.1 ‘ ’ 1\n",
       "\n",
       "(Dispersion parameter for binomial family taken to be 1)\n",
       "\n",
       "    Null deviance: 107.926  on 77  degrees of freedom\n",
       "Residual deviance:  92.501  on 75  degrees of freedom\n",
       "AIC: 98.501\n",
       "\n",
       "Number of Fisher Scoring iterations: 3\n"
      ]
     },
     "metadata": {},
     "output_type": "display_data"
    },
    {
     "name": "stderr",
     "output_type": "stream",
     "text": [
      "Waiting for profiling to be done...\n"
     ]
    },
    {
     "data": {
      "text/html": [
       "<table>\n",
       "<thead><tr><th></th><th scope=col>2.5 %</th><th scope=col>97.5 %</th></tr></thead>\n",
       "<tbody>\n",
       "\t<tr><th scope=row>(Intercept)</th><td>-8.65585722</td><td>-1.9891786 </td></tr>\n",
       "\t<tr><th scope=row>sexmale</th><td> 0.37522585</td><td> 2.4543289 </td></tr>\n",
       "\t<tr><th scope=row>age</th><td> 0.03200103</td><td> 0.1643346 </td></tr>\n",
       "</tbody>\n",
       "</table>\n"
      ],
      "text/latex": [
       "\\begin{tabular}{r|ll}\n",
       "  & 2.5 \\% & 97.5 \\%\\\\\n",
       "\\hline\n",
       "\t(Intercept) & -8.65585722 & -1.9891786 \\\\\n",
       "\tsexmale &  0.37522585 &  2.4543289 \\\\\n",
       "\tage &  0.03200103 &  0.1643346 \\\\\n",
       "\\end{tabular}\n"
      ],
      "text/markdown": [
       "\n",
       "| <!--/--> | 2.5 % | 97.5 % |\n",
       "|---|---|---|\n",
       "| (Intercept) | -8.65585722 | -1.9891786  |\n",
       "| sexmale |  0.37522585 |  2.4543289  |\n",
       "| age |  0.03200103 |  0.1643346  |\n",
       "\n"
      ],
      "text/plain": [
       "            2.5 %       97.5 %    \n",
       "(Intercept) -8.65585722 -1.9891786\n",
       "sexmale      0.37522585  2.4543289\n",
       "age          0.03200103  0.1643346"
      ]
     },
     "metadata": {},
     "output_type": "display_data"
    }
   ],
   "source": [
    "summary(logit);confint(logit)"
   ]
  },
  {
   "cell_type": "markdown",
   "metadata": {},
   "source": [
    "##### <span style='color:tan'>as we can see from the output that all of the variables have small p-value and less than Alpha=0.05 so we can say that all variabls have asignificant association with heart disease "
   ]
  },
  {
   "cell_type": "markdown",
   "metadata": {},
   "source": [
    "##### <span style='color:tan'>from the output we can explain the age coefficient that each one-unit change in age will increase the log odds of getting heart disease by 0.09351 \n",
    "##### <span style='color:tan'>and the sex coefficient is that from male to female will increase the log odds of getting heart disease by 1.37281\n",
    "    "
   ]
  },
  {
   "cell_type": "markdown",
   "metadata": {},
   "source": [
    "##### <span style='color:tan'>from the confident intervals at all 0.05 level of significant the estimate will be between the values above ,and we can notice that the zero not oncluded in all the intervals"
   ]
  },
  {
   "cell_type": "markdown",
   "metadata": {},
   "source": [
    " "
   ]
  },
  {
   "cell_type": "markdown",
   "metadata": {},
   "source": [
    " "
   ]
  },
  {
   "cell_type": "markdown",
   "metadata": {},
   "source": [
    "### <span style='color:gray'> 2.2_the test of overall significance"
   ]
  },
  {
   "cell_type": "markdown",
   "metadata": {},
   "source": [
    "##### <span style='color:tan'> to test the overall signofocance we use the daviance test ,and the deviance test is the analogous to F-test used in linear regression  \n",
    "##### <span style='color:darkgoldenrod'>H0: the model as a whole is no better than the model with just intercept \"null model\"\n",
    "##### <span style='color:darkgoldenrod'>H1: the model is significantly better than the null model \n",
    "\n",
    "##### <span style='color:tan'>since the p-value=0.000472 < alpha=0.05 we rejuct H0 so we conclude that there is a significant association with the predictors "
   ]
  },
  {
   "cell_type": "code",
   "execution_count": 192,
   "metadata": {},
   "outputs": [
    {
     "data": {
      "text/html": [
       "0.000447210152107399"
      ],
      "text/latex": [
       "0.000447210152107399"
      ],
      "text/markdown": [
       "0.000447210152107399"
      ],
      "text/plain": [
       "[1] 0.0004472102"
      ]
     },
     "metadata": {},
     "output_type": "display_data"
    }
   ],
   "source": [
    "with(logit,pchisq(null.deviance - deviance,df.null-df.residual,lower.tail =FALSE))"
   ]
  },
  {
   "cell_type": "markdown",
   "metadata": {},
   "source": [
    " "
   ]
  },
  {
   "cell_type": "markdown",
   "metadata": {},
   "source": [
    "### <span style='color:gray'>2.3_Is age significantly associated with the heart disease ?"
   ]
  },
  {
   "cell_type": "markdown",
   "metadata": {},
   "source": [
    "##### <span style='color:tan'> frome the \"logit\" output we can see that the p-value for Age =0.00507 is less than Alpha=0.05 so there is a significant assocition between heart disease(ca) and Age \n",
    "\n",
    "##### <span style='color:tan'>and we cane have the same conclusion with wald test command in the package \"mdscore\",so we have p-value =0.0050679 < Alpha=0.05 so there is an assocition between heart disease and Age"
   ]
  },
  {
   "cell_type": "markdown",
   "metadata": {},
   "source": [
    " "
   ]
  },
  {
   "cell_type": "code",
   "execution_count": 211,
   "metadata": {},
   "outputs": [
    {
     "name": "stderr",
     "output_type": "stream",
     "text": [
      "Updating HTML index of packages in '.Library'\n",
      "Making 'packages.html' ... done\n"
     ]
    }
   ],
   "source": [
    "install.packages(\"mdscore\")"
   ]
  },
  {
   "cell_type": "code",
   "execution_count": 212,
   "metadata": {},
   "outputs": [
    {
     "name": "stderr",
     "output_type": "stream",
     "text": [
      "Loading required package: MASS\n"
     ]
    }
   ],
   "source": [
    "library(mdscore)"
   ]
  },
  {
   "cell_type": "code",
   "execution_count": 213,
   "metadata": {},
   "outputs": [
    {
     "data": {
      "text/plain": [
       "$W\n",
       "[1] 7.855042\n",
       "\n",
       "$pvalue\n",
       "[1] 0.005067918\n",
       "\n",
       "attr(,\"class\")\n",
       "[1] \"wald.test\""
      ]
     },
     "metadata": {},
     "output_type": "display_data"
    }
   ],
   "source": [
    "wald.test(logit,term=3)"
   ]
  },
  {
   "cell_type": "markdown",
   "metadata": {},
   "source": [
    " "
   ]
  },
  {
   "cell_type": "markdown",
   "metadata": {},
   "source": [
    " "
   ]
  },
  {
   "cell_type": "markdown",
   "metadata": {},
   "source": [
    "### <span style='color:gray'>2.4_ who is more likely to have the disease ,men of females ?"
   ]
  },
  {
   "cell_type": "markdown",
   "metadata": {},
   "source": [
    "##### <span style='color:tan'> her we will use the Odds retio test and its used to binary response variable and a binary predictor variable \n",
    "##### <span style='color:darkgoldenrod'> OR= Odd1 / Odd2  =(P1 / (1-P1)) / (P2 / (1-P2))  \n",
    "##### <span style='color:tan'>we can have OR value manually by using the formula above or by command oddsratio() in \"fmsb\" package\n",
    "##### <span style='color:tan'> the value of OR =0.31527 <1 so we conclude that females are not likely to have the disease compared to males \n",
    "##### <span style='color:tan'> in another word from the next command OR allmost= 3 >1 so we conclude that males is 3 times more likely to get the heart disease compared to female"
   ]
  },
  {
   "cell_type": "code",
   "execution_count": 199,
   "metadata": {},
   "outputs": [
    {
     "data": {
      "text/plain": [
       "   sex\n",
       "ca  female male\n",
       "  0     21   16\n",
       "  1     12   29"
      ]
     },
     "metadata": {},
     "output_type": "display_data"
    }
   ],
   "source": [
    "table(ca,sex)"
   ]
  },
  {
   "cell_type": "code",
   "execution_count": 225,
   "metadata": {},
   "outputs": [
    {
     "data": {
      "text/html": [
       "0.315270935960591"
      ],
      "text/latex": [
       "0.315270935960591"
      ],
      "text/markdown": [
       "0.315270935960591"
      ],
      "text/plain": [
       "[1] 0.3152709"
      ]
     },
     "metadata": {},
     "output_type": "display_data"
    }
   ],
   "source": [
    "#the OR manually=(Odd female)/(Odd male)\n",
    "\n",
    "((12/33)/(21/33)) /  ((29/45)/(16/45)) "
   ]
  },
  {
   "cell_type": "code",
   "execution_count": 227,
   "metadata": {},
   "outputs": [
    {
     "data": {
      "text/html": [
       "3.171875"
      ],
      "text/latex": [
       "3.171875"
      ],
      "text/markdown": [
       "3.171875"
      ],
      "text/plain": [
       "[1] 3.171875"
      ]
     },
     "metadata": {},
     "output_type": "display_data"
    }
   ],
   "source": [
    "#the OR manually=(Odd male)/(Odd female)\n",
    " \n",
    "((29/45)/(16/45)) /  ((12/33)/(21/33)) "
   ]
  },
  {
   "cell_type": "markdown",
   "metadata": {},
   "source": [
    " "
   ]
  },
  {
   "cell_type": "code",
   "execution_count": 214,
   "metadata": {},
   "outputs": [
    {
     "name": "stderr",
     "output_type": "stream",
     "text": [
      "Updating HTML index of packages in '.Library'\n",
      "Making 'packages.html' ... done\n"
     ]
    }
   ],
   "source": [
    "install.packages(\"fmsb\")"
   ]
  },
  {
   "cell_type": "code",
   "execution_count": 215,
   "metadata": {},
   "outputs": [],
   "source": [
    "library(fmsb)"
   ]
  },
  {
   "cell_type": "code",
   "execution_count": 224,
   "metadata": {},
   "outputs": [
    {
     "name": "stdout",
     "output_type": "stream",
     "text": [
      "           Disease Nondisease Total\n",
      "Exposed         21         16    37\n",
      "Nonexposed      12         29    41\n",
      "Total           33         45    78\n"
     ]
    },
    {
     "data": {
      "text/plain": [
       "\n",
       "\tOdds ratio estimate and its significance probability\n",
       "\n",
       "data:  table(ca, sex)\n",
       "p-value = 0.01477\n",
       "95 percent confidence interval:\n",
       " 1.244316 8.085398\n",
       "sample estimates:\n",
       "[1] 3.171875\n"
      ]
     },
     "metadata": {},
     "output_type": "display_data"
    }
   ],
   "source": [
    "oddsratio(table(ca,sex))"
   ]
  },
  {
   "cell_type": "code",
   "execution_count": null,
   "metadata": {},
   "outputs": [],
   "source": []
  },
  {
   "cell_type": "markdown",
   "metadata": {},
   "source": [
    " "
   ]
  },
  {
   "cell_type": "markdown",
   "metadata": {},
   "source": [
    " "
   ]
  },
  {
   "cell_type": "markdown",
   "metadata": {},
   "source": [
    "### <span style='color:gray'>2.5_ LOOCV for the model "
   ]
  },
  {
   "cell_type": "markdown",
   "metadata": {},
   "source": [
    "##### <span style='color:tan'> to test the model's performance we use LOOCV by train command in \"carer\" package \n",
    "##### <span style='color:tan'>and we can see that the Accuracy =66.67% and Kappa =33.15% ,and we know that when we compare between diffrent modele the higher is better"
   ]
  },
  {
   "cell_type": "code",
   "execution_count": 1,
   "metadata": {},
   "outputs": [
    {
     "name": "stderr",
     "output_type": "stream",
     "text": [
      "Loading required package: lattice\n",
      "Loading required package: ggplot2\n",
      "Registered S3 methods overwritten by 'ggplot2':\n",
      "  method         from \n",
      "  [.quosures     rlang\n",
      "  c.quosures     rlang\n",
      "  print.quosures rlang\n"
     ]
    }
   ],
   "source": [
    "library(caret)"
   ]
  },
  {
   "cell_type": "code",
   "execution_count": 12,
   "metadata": {},
   "outputs": [
    {
     "ename": "ERROR",
     "evalue": "Error: package e1071 is required\n",
     "output_type": "error",
     "traceback": [
      "Error: package e1071 is required\nTraceback:\n",
      "1. train(ca ~ sex + age, data = project_2, method = \"glm\", trControl = trainControl(\"LOOCV\"))",
      "2. train.formula(ca ~ sex + age, data = project_2, method = \"glm\", \n .     trControl = trainControl(\"LOOCV\"))",
      "3. train(x, y, weights = w, ...)",
      "4. train.default(x, y, weights = w, ...)",
      "5. evalSummaryFunction(y, wts = weights, ctrl = trControl, lev = classLevels, \n .     metric = metric, method = method)",
      "6. ctrl$summaryFunction(testOutput, lev, method)",
      "7. postResample(data[, \"pred\"], data[, \"obs\"])",
      "8. requireNamespaceQuietStop(\"e1071\")",
      "9. stop(paste(\"package\", package, \"is required\"), call. = FALSE)"
     ]
    }
   ],
   "source": [
    "train(ca~sex+age,data=project_2,method=\"glm\",trControl=trainControl(\"LOOCV\"))"
   ]
  },
  {
   "cell_type": "code",
   "execution_count": null,
   "metadata": {},
   "outputs": [],
   "source": [
    "library(boot)"
   ]
  },
  {
   "cell_type": "code",
   "execution_count": 350,
   "metadata": {},
   "outputs": [
    {
     "data": {
      "text/html": [
       "0.219771098150213"
      ],
      "text/latex": [
       "0.219771098150213"
      ],
      "text/markdown": [
       "0.219771098150213"
      ],
      "text/plain": [
       "[1] 0.2197711"
      ]
     },
     "metadata": {},
     "output_type": "display_data"
    }
   ],
   "source": [
    "MSE_LOOCV <- cv.glm(project_2,logit)$delta[1]\n",
    "MSE_LOOCV"
   ]
  },
  {
   "cell_type": "code",
   "execution_count": 275,
   "metadata": {},
   "outputs": [
    {
     "name": "stderr",
     "output_type": "stream",
     "text": [
      "Registered S3 methods overwritten by 'pROC':\n",
      "  method    from\n",
      "  print.roc fmsb\n",
      "  plot.roc  fmsb\n",
      "Type 'citation(\"pROC\")' for a citation.\n",
      "\n",
      "Attaching package: ‘pROC’\n",
      "\n",
      "The following object is masked from ‘package:fmsb’:\n",
      "\n",
      "    roc\n",
      "\n",
      "The following objects are masked from ‘package:stats’:\n",
      "\n",
      "    cov, smooth, var\n",
      "\n"
     ]
    }
   ],
   "source": [
    "library(pROC)"
   ]
  },
  {
   "cell_type": "code",
   "execution_count": 276,
   "metadata": {},
   "outputs": [
    {
     "name": "stderr",
     "output_type": "stream",
     "text": [
      "randomForest 4.6-14\n",
      "Type rfNews() to see new features/changes/bug fixes.\n",
      "\n",
      "Attaching package: ‘randomForest’\n",
      "\n",
      "The following object is masked from ‘package:ggplot2’:\n",
      "\n",
      "    margin\n",
      "\n"
     ]
    }
   ],
   "source": [
    "library(randomForest)"
   ]
  },
  {
   "cell_type": "markdown",
   "metadata": {},
   "source": [
    "  "
   ]
  },
  {
   "cell_type": "markdown",
   "metadata": {},
   "source": [
    "  "
   ]
  },
  {
   "cell_type": "markdown",
   "metadata": {},
   "source": [
    " "
   ]
  },
  {
   "cell_type": "code",
   "execution_count": 287,
   "metadata": {},
   "outputs": [],
   "source": [
    "logit2 <- glm(ca~sex+age+ecg,data=project_2,family=\"binomial\")"
   ]
  },
  {
   "cell_type": "code",
   "execution_count": 315,
   "metadata": {},
   "outputs": [
    {
     "name": "stderr",
     "output_type": "stream",
     "text": [
      "Setting levels: control = 0, case = 1\n",
      "Setting direction: controls < cases\n"
     ]
    },
    {
     "data": {
      "text/plain": [
       "\n",
       "Call:\n",
       "roc.default(response = ca, predictor = logit$fitted.values, plot = TRUE,     col = \"maroon\", print.auc = TRUE)\n",
       "\n",
       "Data: logit$fitted.values in 37 controls (ca 0) < 41 cases (ca 1).\n",
       "Area under the curve: 0.7465"
      ]
     },
     "metadata": {},
     "output_type": "display_data"
    },
    {
     "name": "stderr",
     "output_type": "stream",
     "text": [
      "Setting levels: control = 0, case = 1\n",
      "Setting direction: controls < cases\n"
     ]
    },
    {
     "data": {
      "image/png": "[encoded data removed]",
      "text/plain": [
       "plot without title"
      ]
     },
     "metadata": {},
     "output_type": "display_data"
    }
   ],
   "source": [
    "roc(ca,logit$fitted.values,plot =TRUE,col=\"maroon\",print.auc=TRUE )\n",
    "plot.roc(ca,logit2$fitted.values,col=\"darkgoldenrod\",print.auc=TRUE,add=TRUE,print.auc.y=0.4)\n",
    "legend(\"bottomright\",legend=c(\"logit\",\"logit2\"),col=c(\"maroon\",\"darkgoldenrod\"),lwd=6)"
   ]
  },
  {
   "cell_type": "markdown",
   "metadata": {},
   "source": [
    "##### <span style='color:tan'> her we apply the rock curve and we usully use it to compare different models ,so we apply ecg in the second model\"logit2\"\n",
    "##### <span style='color:tan'>and we can notice that the logit2 have AUC \"Area under the curve\" is higher than logit ,so its seems that the logit2 is better predictive power than logit\n"
   ]
  },
  {
   "cell_type": "markdown",
   "metadata": {},
   "source": [
    " "
   ]
  },
  {
   "cell_type": "code",
   "execution_count": 3,
   "metadata": {},
   "outputs": [
    {
     "name": "stderr",
     "output_type": "stream",
     "text": [
      "Warning message:\n",
      "“Option grouped=FALSE enforced in cv.glmnet, since < 3 observations per fold”"
     ]
    },
    {
     "data": {
      "text/plain": [
       "$lambda\n",
       " [1] 3344.5168358 3047.3991782 2776.6766344 2530.0043353 2305.2457233\n",
       " [6] 2100.4540470 1913.8554987 1743.8338512 1588.9164582 1447.7614994\n",
       "[11] 1319.1463581 1201.9570315 1095.1784816  997.8858438  909.2364158\n",
       "[16]  828.4623587  754.8640461  687.8040048  626.7013928  571.0269683\n",
       "[21]  520.2985063  474.0766211  431.9609607  393.5867395  358.6215784\n",
       "[26]  326.7626258  297.7339347  271.2840726  247.1839433  225.2248031\n",
       "[31]  205.2164523  186.9855883  170.3743040  155.2387204  141.4477404\n",
       "[36]  128.8819130  117.4323991  107.0000284   97.4944408   88.8333034\n",
       "[41]   80.9415975   73.7509691   67.1991363   61.2293502   55.7899035\n",
       "[46]   50.8336823   46.3177580   42.2030161   38.4538164   35.0376854\n",
       "[51]   31.9250340   29.0889019   26.5047241   24.1501174   22.0046876\n",
       "[56]   20.0498518   18.2686782   16.6457392   15.1669776   13.8195851\n",
       "[61]   12.5918913   11.4732623   10.4540093    9.5253040    8.6791022\n",
       "[66]    7.9080747    7.2055431    6.5654225    5.9821685    5.4507291\n",
       "[71]    4.9665014    4.5252911    4.1232767    3.7569762    3.4232168\n",
       "[76]    3.1191076    2.8420147    2.5895379    2.3594905    2.1498799\n",
       "[81]    1.9588905    1.7848681    1.6263053    1.4818288    1.3501872\n",
       "[86]    1.2302403    1.1209492    1.0213671    0.9306317    0.8479569\n",
       "[91]    0.7726268    0.7039887    0.6414483    0.5844638    0.5325417\n",
       "[96]    0.4852321    0.4421254    0.4028482    0.3670603\n",
       "\n",
       "$cvm\n",
       " [1] 13.4968086 13.4109203 13.3664580 13.3533065 13.3388969 13.3231114\n",
       " [7] 13.3058218 13.2868884 13.2661593 13.2434697 13.2186404 13.1914773\n",
       "[13] 13.1617702 13.1292917 13.0937959 13.0550190 13.0126763 12.9664619\n",
       "[19] 12.9160486 12.8610866 12.8012032 12.7360027 12.6650663 12.5879528\n",
       "[25] 12.5041993 12.4133225 12.3148214 12.2081795 12.0928691 11.9683555\n",
       "[31] 11.8341034 11.6895835 11.5342811 11.3677057 11.1894021 10.9989633\n",
       "[37] 10.7960439 10.5803757 10.3517832 10.1102000  9.8556868  9.5884469\n",
       "[43]  9.3088416  9.0174033  8.7148467  8.4020755  8.0801846  7.7504573\n",
       "[49]  7.4143561  7.0735073  6.7296779  6.3847475  6.0406729  5.6994486\n",
       "[55]  5.3630632  5.0334543  4.7124636  4.4017939  4.1029700  3.8173063\n",
       "[61]  3.5458815  3.2895012  3.0485488  2.8236287  2.6147950  2.4218045\n",
       "[67]  2.2442833  2.0816773  1.9332832  1.7982804  1.6757638  1.5647749\n",
       "[73]  1.4643152  1.3733722  1.2910783  1.2164714  1.1486678  1.0868268\n",
       "[79]  1.0301979  0.9781019  0.9299342  0.8851650  0.8433385  0.8040699\n",
       "[85]  0.7670272  0.7319538  0.6986968  0.6670360  0.6368779  0.6082088\n",
       "[91]  0.5808902  0.5549277  0.5303425  0.5070685  0.4852667  0.4647720\n",
       "[97]  0.4456795  0.4279551  0.4115930\n",
       "\n",
       "$cvsd\n",
       " [1] 2.8071469 2.7883122 2.7765200 2.7736168 2.7704361 2.7669519 2.7631360\n",
       " [8] 2.7589575 2.7543830 2.7493763 2.7438980 2.7379052 2.7313520 2.7241882\n",
       "[15] 2.7163599 2.7078092 2.6984736 2.6882862 2.6771753 2.6650645 2.6518722\n",
       "[22] 2.6375123 2.6218936 2.6049200 2.5864913 2.5665028 2.5448465 2.5214113\n",
       "[29] 2.4960844 2.4687518 2.4393003 2.4076188 2.3736004 2.3371449 2.2981609\n",
       "[36] 2.2565691 2.2123057 2.1653254 2.1156057 2.0631502 2.0079929 1.9502018\n",
       "[43] 1.8898822 1.8271801 1.7622839 1.6954263 1.6268843 1.5569779 1.4860679\n",
       "[50] 1.4145509 1.3428539 1.2714261 1.2007294 1.1312281 1.0633769 0.9976086\n",
       "[57] 0.9343214 0.8738676 0.8165425 0.7625756 0.7121244 0.6652728 0.6219946\n",
       "[64] 0.5822541 0.5459509 0.5128804 0.4828202 0.4555203 0.4307166 0.4081431\n",
       "[71] 0.3875420 0.3686718 0.3513085 0.3352423 0.3203244 0.3064036 0.2933628\n",
       "[78] 0.2810814 0.2694693 0.2584515 0.2479662 0.2379637 0.2284050 0.2192609\n",
       "[85] 0.2105053 0.2021238 0.1941265 0.1865061 0.1792500 0.1723987 0.1659331\n",
       "[92] 0.1598723 0.1542354 0.1490102 0.1442496 0.1398928 0.1359836 0.1324761\n",
       "[99] 0.1293470\n",
       "\n",
       "$cvup\n",
       " [1] 16.3039555 16.1992325 16.1429780 16.1269233 16.1093330 16.0900633\n",
       " [7] 16.0689577 16.0458458 16.0205424 15.9928460 15.9625384 15.9293825\n",
       "[13] 15.8931221 15.8534799 15.8101558 15.7628282 15.7111499 15.6547481\n",
       "[19] 15.5932239 15.5261510 15.4530754 15.3735150 15.2869599 15.1928728\n",
       "[25] 15.0906905 14.9798253 14.8596679 14.7295908 14.5889534 14.4371073\n",
       "[31] 14.2734037 14.0972023 13.9078816 13.7048506 13.4875629 13.2555324\n",
       "[37] 13.0083496 12.7457011 12.4673889 12.1733503 11.8636797 11.5386487\n",
       "[43] 11.1987238 10.8445834 10.4771306 10.0975018  9.7070689  9.3074352\n",
       "[49]  8.9004240  8.4880582  8.0725318  7.6561736  7.2414023  6.8306767\n",
       "[55]  6.4264401  6.0310629  5.6467850  5.2756615  4.9195125  4.5798819\n",
       "[61]  4.2580059  3.9547740  3.6705434  3.4058827  3.1607459  2.9346849\n",
       "[67]  2.7271035  2.5371977  2.3639999  2.2064235  2.0633058  1.9334467\n",
       "[73]  1.8156237  1.7086145  1.6114027  1.5228750  1.4420305  1.3679082\n",
       "[79]  1.2996672  1.2365534  1.1779003  1.1231287  1.0717435  1.0233308\n",
       "[85]  0.9775325  0.9340776  0.8928233  0.8535421  0.8161279  0.7806075\n",
       "[91]  0.7468233  0.7148000  0.6845779  0.6560787  0.6295163  0.6046648\n",
       "[97]  0.5816631  0.5604312  0.5409400\n",
       "\n",
       "$cvlo\n",
       " [1] 10.6896616 10.6226081 10.5899381 10.5796897 10.5684607 10.5561595\n",
       " [7] 10.5426858 10.5279309 10.5117763 10.4940934 10.4747424 10.4535720\n",
       "[13] 10.4304182 10.4051035 10.3774360 10.3472099 10.3142027 10.2781757\n",
       "[19] 10.2388733 10.1960221 10.1493309 10.0984903 10.0431728  9.9830328\n",
       "[25]  9.9177080  9.8468197  9.7699749  9.6867682  9.5967847  9.4996038\n",
       "[31]  9.3948032  9.2819648  9.1606807  9.0305607  8.8912412  8.7423942\n",
       "[37]  8.5837382  8.4150503  8.2361774  8.0470498  7.8476939  7.6382451\n",
       "[43]  7.4189593  7.1902232  6.9525628  6.7066491  6.4533003  6.1934793\n",
       "[49]  5.9282882  5.6589563  5.3868240  5.1133214  4.8399436  4.5682205\n",
       "[55]  4.2996863  4.0358457  3.7781422  3.5279263  3.2864275  3.0547307\n",
       "[61]  2.8337571  2.6242284  2.4265542  2.2413746  2.0688441  1.9089241\n",
       "[67]  1.7614631  1.6261570  1.5025666  1.3901373  1.2882218  1.1961031\n",
       "[73]  1.1130066  1.0381299  0.9707539  0.9100679  0.8553050  0.8057454\n",
       "[79]  0.7607286  0.7196504  0.6819680  0.6472013  0.6149335  0.5848090\n",
       "[85]  0.5565220  0.5298300  0.5045703  0.4805299  0.4576279  0.4358102\n",
       "[91]  0.4149571  0.3950554  0.3761072  0.3580583  0.3410172  0.3248791\n",
       "[97]  0.3096959  0.2954789  0.2822460\n",
       "\n",
       "$nzero\n",
       " s0  s1  s2  s3  s4  s5  s6  s7  s8  s9 s10 s11 s12 s13 s14 s15 s16 s17 s18 s19 \n",
       "  6   6   6   6   6   6   6   6   6   6   6   6   6   6   6   6   6   6   6   6 \n",
       "s20 s21 s22 s23 s24 s25 s26 s27 s28 s29 s30 s31 s32 s33 s34 s35 s36 s37 s38 s39 \n",
       "  6   6   6   6   6   6   6   6   6   6   6   6   6   6   6   6   6   6   6   6 \n",
       "s40 s41 s42 s43 s44 s45 s46 s47 s48 s49 s50 s51 s52 s53 s54 s55 s56 s57 s58 s59 \n",
       "  6   6   6   6   6   6   6   6   6   6   6   6   6   6   6   6   6   6   6   6 \n",
       "s60 s61 s62 s63 s64 s65 s66 s67 s68 s69 s70 s71 s72 s73 s74 s75 s76 s77 s78 s79 \n",
       "  6   6   6   6   6   6   6   6   6   6   6   6   6   6   6   6   6   6   6   6 \n",
       "s80 s81 s82 s83 s84 s85 s86 s87 s88 s89 s90 s91 s92 s93 s94 s95 s96 s97 s98 \n",
       "  6   6   6   6   6   6   6   6   6   6   6   6   6   6   6   6   6   6   6 \n",
       "\n",
       "$name\n",
       "                 mse \n",
       "\"Mean-Squared Error\" \n",
       "\n",
       "$glmnet.fit\n",
       "\n",
       "Call:  glmnet(x = x, y = y, alpha = 0, family = \"gaussian\") \n",
       "\n",
       "       Df      %Dev    Lambda\n",
       "  [1,]  6 8.561e-36 3345.0000\n",
       "  [2,]  6 9.385e-03 3047.0000\n",
       "  [3,]  6 1.029e-02 2777.0000\n",
       "  [4,]  6 1.129e-02 2530.0000\n",
       "  [5,]  6 1.238e-02 2305.0000\n",
       "  [6,]  6 1.357e-02 2100.0000\n",
       "  [7,]  6 1.488e-02 1914.0000\n",
       "  [8,]  6 1.631e-02 1744.0000\n",
       "  [9,]  6 1.787e-02 1589.0000\n",
       " [10,]  6 1.959e-02 1448.0000\n",
       " [11,]  6 2.147e-02 1319.0000\n",
       " [12,]  6 2.352e-02 1202.0000\n",
       " [13,]  6 2.576e-02 1095.0000\n",
       " [14,]  6 2.822e-02  997.9000\n",
       " [15,]  6 3.090e-02  909.2000\n",
       " [16,]  6 3.383e-02  828.5000\n",
       " [17,]  6 3.703e-02  754.9000\n",
       " [18,]  6 4.052e-02  687.8000\n",
       " [19,]  6 4.433e-02  626.7000\n",
       " [20,]  6 4.848e-02  571.0000\n",
       " [21,]  6 5.300e-02  520.3000\n",
       " [22,]  6 5.792e-02  474.1000\n",
       " [23,]  6 6.328e-02  432.0000\n",
       " [24,]  6 6.910e-02  393.6000\n",
       " [25,]  6 7.542e-02  358.6000\n",
       " [26,]  6 8.227e-02  326.8000\n",
       " [27,]  6 8.970e-02  297.7000\n",
       " [28,]  6 9.774e-02  271.3000\n",
       " [29,]  6 1.064e-01  247.2000\n",
       " [30,]  6 1.158e-01  225.2000\n",
       " [31,]  6 1.259e-01  205.2000\n",
       " [32,]  6 1.368e-01  187.0000\n",
       " [33,]  6 1.485e-01  170.4000\n",
       " [34,]  6 1.610e-01  155.2000\n",
       " [35,]  6 1.745e-01  141.4000\n",
       " [36,]  6 1.888e-01  128.9000\n",
       " [37,]  6 2.040e-01  117.4000\n",
       " [38,]  6 2.202e-01  107.0000\n",
       " [39,]  6 2.374e-01   97.4900\n",
       " [40,]  6 2.555e-01   88.8300\n",
       " [41,]  6 2.746e-01   80.9400\n",
       " [42,]  6 2.946e-01   73.7500\n",
       " [43,]  6 3.156e-01   67.2000\n",
       " [44,]  6 3.374e-01   61.2300\n",
       " [45,]  6 3.600e-01   55.7900\n",
       " [46,]  6 3.834e-01   50.8300\n",
       " [47,]  6 4.074e-01   46.3200\n",
       " [48,]  6 4.320e-01   42.2000\n",
       " [49,]  6 4.571e-01   38.4500\n",
       " [50,]  6 4.825e-01   35.0400\n",
       " [51,]  6 5.081e-01   31.9300\n",
       " [52,]  6 5.338e-01   29.0900\n",
       " [53,]  6 5.593e-01   26.5000\n",
       " [54,]  6 5.847e-01   24.1500\n",
       " [55,]  6 6.097e-01   22.0000\n",
       " [56,]  6 6.341e-01   20.0500\n",
       " [57,]  6 6.580e-01   18.2700\n",
       " [58,]  6 6.810e-01   16.6500\n",
       " [59,]  6 7.032e-01   15.1700\n",
       " [60,]  6 7.244e-01   13.8200\n",
       " [61,]  6 7.445e-01   12.5900\n",
       " [62,]  6 7.636e-01   11.4700\n",
       " [63,]  6 7.815e-01   10.4500\n",
       " [64,]  6 7.983e-01    9.5250\n",
       " [65,]  6 8.138e-01    8.6790\n",
       " [66,]  6 8.283e-01    7.9080\n",
       " [67,]  6 8.416e-01    7.2060\n",
       " [68,]  6 8.538e-01    6.5650\n",
       " [69,]  6 8.650e-01    5.9820\n",
       " [70,]  6 8.752e-01    5.4510\n",
       " [71,]  6 8.845e-01    4.9670\n",
       " [72,]  6 8.929e-01    4.5250\n",
       " [73,]  6 9.006e-01    4.1230\n",
       " [74,]  6 9.076e-01    3.7570\n",
       " [75,]  6 9.139e-01    3.4230\n",
       " [76,]  6 9.197e-01    3.1190\n",
       " [77,]  6 9.250e-01    2.8420\n",
       " [78,]  6 9.298e-01    2.5900\n",
       " [79,]  6 9.342e-01    2.3590\n",
       " [80,]  6 9.382e-01    2.1500\n",
       " [81,]  6 9.420e-01    1.9590\n",
       " [82,]  6 9.454e-01    1.7850\n",
       " [83,]  6 9.486e-01    1.6260\n",
       " [84,]  6 9.516e-01    1.4820\n",
       " [85,]  6 9.544e-01    1.3500\n",
       " [86,]  6 9.570e-01    1.2300\n",
       " [87,]  6 9.595e-01    1.1210\n",
       " [88,]  6 9.618e-01    1.0210\n",
       " [89,]  6 9.640e-01    0.9306\n",
       " [90,]  6 9.660e-01    0.8480\n",
       " [91,]  6 9.679e-01    0.7726\n",
       " [92,]  6 9.697e-01    0.7040\n",
       " [93,]  6 9.713e-01    0.6414\n",
       " [94,]  6 9.728e-01    0.5845\n",
       " [95,]  6 9.743e-01    0.5325\n",
       " [96,]  6 9.756e-01    0.4852\n",
       " [97,]  6 9.768e-01    0.4421\n",
       " [98,]  6 9.779e-01    0.4028\n",
       " [99,]  6 9.789e-01    0.3671\n",
       "[100,]  6 9.799e-01    0.3345\n",
       "\n",
       "$lambda.min\n",
       "[1] 0.3670603\n",
       "\n",
       "$lambda.1se\n",
       "[1] 0.6414483\n",
       "\n",
       "attr(,\"class\")\n",
       "[1] \"cv.glmnet\""
      ]
     },
     "metadata": {},
     "output_type": "display_data"
    }
   ],
   "source": [
    "x <- as.matrix(longley[,1:6])\n",
    "y <- as.matrix(longley[,7])\n",
    "\n",
    "cv.ridge <- cv.glmnet(x, y, alpha = 0, family = \"gaussian\") \n",
    "cv.ridge"
   ]
  },
  {
   "cell_type": "code",
   "execution_count": 2,
   "metadata": {},
   "outputs": [
    {
     "name": "stderr",
     "output_type": "stream",
     "text": [
      "Loading required package: Matrix\n",
      "Loading required package: foreach\n",
      "Loaded glmnet 2.0-16\n",
      "\n"
     ]
    }
   ],
   "source": [
    "library(glmnet)"
   ]
  },
  {
   "cell_type": "code",
   "execution_count": null,
   "metadata": {},
   "outputs": [],
   "source": []
  }
 ],
 "metadata": {
  "kernelspec": {
   "display_name": "R",
   "language": "R",
   "name": "ir"
  },
  "language_info": {
   "codemirror_mode": "r",
   "file_extension": ".r",
   "mimetype": "text/x-r-source",
   "name": "R",
   "pygments_lexer": "r",
   "version": "3.6.1"
  }
 },
 "nbformat": 4,
 "nbformat_minor": 4
}
